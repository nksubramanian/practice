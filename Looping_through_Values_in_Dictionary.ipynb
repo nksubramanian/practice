{
  "nbformat": 4,
  "nbformat_minor": 0,
  "metadata": {
    "colab": {
      "name": "Looping through Values in Dictionary.ipynb",
      "provenance": [],
      "authorship_tag": "ABX9TyO1iIiDW6F38vKMWOLWPOln",
      "include_colab_link": true
    },
    "kernelspec": {
      "name": "python3",
      "display_name": "Python 3"
    }
  },
  "cells": [
    {
      "cell_type": "markdown",
      "metadata": {
        "id": "view-in-github",
        "colab_type": "text"
      },
      "source": [
        "<a href=\"https://colab.research.google.com/github/pythoncoder100/practice/blob/master/Looping_through_Values_in_Dictionary.ipynb\" target=\"_parent\"><img src=\"https://colab.research.google.com/assets/colab-badge.svg\" alt=\"Open In Colab\"/></a>"
      ]
    },
    {
      "cell_type": "code",
      "metadata": {
        "colab": {
          "base_uri": "https://localhost:8080/"
        },
        "id": "MSJeuGg694hV",
        "outputId": "65f1a616-f702-4387-9c3d-db8ba1b4bbb5"
      },
      "source": [
        "Sheela = { \"Major\": \"Chemistry\", \"Age\": 21, \"Gender\": \"Female\", \"Qualification\":\"Bachelor\" }\r\n",
        "for x in Sheela.values():\r\n",
        "  print(x)\r\n"
      ],
      "execution_count": 2,
      "outputs": [
        {
          "output_type": "stream",
          "text": [
            "Chemistry\n",
            "21\n",
            "Female\n",
            "Bachelor\n"
          ],
          "name": "stdout"
        }
      ]
    },
    {
      "cell_type": "code",
      "metadata": {
        "id": "OuiT9zTq977o"
      },
      "source": [
        ""
      ],
      "execution_count": null,
      "outputs": []
    }
  ]
}