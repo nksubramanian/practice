{
  "nbformat": 4,
  "nbformat_minor": 0,
  "metadata": {
    "colab": {
      "name": "Copying one Dictionary to another.ipynb",
      "provenance": [],
      "authorship_tag": "ABX9TyPmktkOwhFIMGO3T+5Nwh7w",
      "include_colab_link": true
    },
    "kernelspec": {
      "name": "python3",
      "display_name": "Python 3"
    }
  },
  "cells": [
    {
      "cell_type": "markdown",
      "metadata": {
        "id": "view-in-github",
        "colab_type": "text"
      },
      "source": [
        "<a href=\"https://colab.research.google.com/github/pythoncoder100/practice/blob/master/Copying_one_Dictionary_to_another.ipynb\" target=\"_parent\"><img src=\"https://colab.research.google.com/assets/colab-badge.svg\" alt=\"Open In Colab\"/></a>"
      ]
    },
    {
      "cell_type": "code",
      "metadata": {
        "id": "PNAespC6_sWh"
      },
      "source": [
        "Sheela = {\r\n",
        "\"Major\": \"Chemistry\",\r\n",
        "\"Age\": 21,\r\n",
        "\"Gender\": \"Female\",\r\n",
        "}"
      ],
      "execution_count": 1,
      "outputs": []
    },
    {
      "cell_type": "code",
      "metadata": {
        "id": "5hsFwiwP_9wf"
      },
      "source": [
        "Dolly=Sheela.copy()"
      ],
      "execution_count": 2,
      "outputs": []
    },
    {
      "cell_type": "code",
      "metadata": {
        "colab": {
          "base_uri": "https://localhost:8080/"
        },
        "id": "kMz3PVLBAJfg",
        "outputId": "aa8c36a9-8322-49e8-d83c-763e994d6be5"
      },
      "source": [
        "print(Dolly)"
      ],
      "execution_count": 3,
      "outputs": [
        {
          "output_type": "stream",
          "text": [
            "{'Major': 'Chemistry', 'Age': 21, 'Gender': 'Female'}\n"
          ],
          "name": "stdout"
        }
      ]
    },
    {
      "cell_type": "code",
      "metadata": {
        "id": "NGe9w5TqARgQ"
      },
      "source": [
        ""
      ],
      "execution_count": null,
      "outputs": []
    }
  ]
}