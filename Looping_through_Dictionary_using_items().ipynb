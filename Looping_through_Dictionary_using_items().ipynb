{
  "nbformat": 4,
  "nbformat_minor": 0,
  "metadata": {
    "colab": {
      "name": "Looping through Dictionary using items().ipynb",
      "provenance": [],
      "authorship_tag": "ABX9TyMHGRGz4lMFZxkNFdHHXx5F",
      "include_colab_link": true
    },
    "kernelspec": {
      "name": "python3",
      "display_name": "Python 3"
    }
  },
  "cells": [
    {
      "cell_type": "markdown",
      "metadata": {
        "id": "view-in-github",
        "colab_type": "text"
      },
      "source": [
        "<a href=\"https://colab.research.google.com/github/pythoncoder100/practice/blob/master/Looping_through_Dictionary_using_items().ipynb\" target=\"_parent\"><img src=\"https://colab.research.google.com/assets/colab-badge.svg\" alt=\"Open In Colab\"/></a>"
      ]
    },
    {
      "cell_type": "code",
      "metadata": {
        "id": "C_Hpn54a_KfF"
      },
      "source": [
        "Sheela = { \"Major\": \"Chemistry\", \"Age\": 21, \"Gender\": \"Female\", \"Qualification\":\"Bachelor\" }\\\r\n",
        "for x, y in Sheela.items():\r\n",
        "  print(x, y)"
      ],
      "execution_count": null,
      "outputs": []
    }
  ]
}