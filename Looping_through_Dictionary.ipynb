{
  "nbformat": 4,
  "nbformat_minor": 0,
  "metadata": {
    "colab": {
      "name": "Looping through Dictionary.ipynb",
      "provenance": [],
      "authorship_tag": "ABX9TyN+JsIFwAJaTes6yJKfTL+R",
      "include_colab_link": true
    },
    "kernelspec": {
      "name": "python3",
      "display_name": "Python 3"
    }
  },
  "cells": [
    {
      "cell_type": "markdown",
      "metadata": {
        "id": "view-in-github",
        "colab_type": "text"
      },
      "source": [
        "<a href=\"https://colab.research.google.com/github/pythoncoder100/practice/blob/master/Looping_through_Dictionary.ipynb\" target=\"_parent\"><img src=\"https://colab.research.google.com/assets/colab-badge.svg\" alt=\"Open In Colab\"/></a>"
      ]
    },
    {
      "cell_type": "code",
      "metadata": {
        "id": "OjOmYlQJ5QM0"
      },
      "source": [
        "Sheela = { \"Major\": \"Chemistry\", \"Age\": 21, \"Gender\": \"Female\", \"Qualification\":\"Bachelor\" }"
      ],
      "execution_count": 1,
      "outputs": []
    },
    {
      "cell_type": "code",
      "metadata": {
        "colab": {
          "base_uri": "https://localhost:8080/"
        },
        "id": "X3HRNEM3643R",
        "outputId": "b291c2a9-a0b8-4383-a4a1-5603df040872"
      },
      "source": [
        "for x in Sheela:\r\n",
        "  print(x)"
      ],
      "execution_count": 2,
      "outputs": [
        {
          "output_type": "stream",
          "text": [
            "Major\n",
            "Age\n",
            "Gender\n",
            "Qualification\n"
          ],
          "name": "stdout"
        }
      ]
    },
    {
      "cell_type": "code",
      "metadata": {
        "colab": {
          "base_uri": "https://localhost:8080/"
        },
        "id": "-c91T0ZL7C6L",
        "outputId": "b389a7ed-913e-409f-b509-464a1e8c652b"
      },
      "source": [
        " Sheela = { \"Major\": \"Chemistry\", \"Age\": 21, \"Gender\": \"Female\", \"Qualification\":\"Bachelor\" }\r\n",
        "for x in Sheela:\r\n",
        "  print(Sheela[x])"
      ],
      "execution_count": 3,
      "outputs": [
        {
          "output_type": "stream",
          "text": [
            "Chemistry\n",
            "21\n",
            "Female\n",
            "Bachelor\n"
          ],
          "name": "stdout"
        }
      ]
    },
    {
      "cell_type": "code",
      "metadata": {
        "id": "qEVeVOXc7trV"
      },
      "source": [
        ""
      ],
      "execution_count": null,
      "outputs": []
    }
  ]
}