{
  "nbformat": 4,
  "nbformat_minor": 0,
  "metadata": {
    "colab": {
      "name": "Inheritance in python.ipynb",
      "provenance": [],
      "authorship_tag": "ABX9TyPXSziqc6/UcVVBu+vWJTan",
      "include_colab_link": true
    },
    "kernelspec": {
      "name": "python3",
      "display_name": "Python 3"
    }
  },
  "cells": [
    {
      "cell_type": "markdown",
      "metadata": {
        "id": "view-in-github",
        "colab_type": "text"
      },
      "source": [
        "<a href=\"https://colab.research.google.com/github/pythoncoder100/practice/blob/master/Inheritance_in_python.ipynb\" target=\"_parent\"><img src=\"https://colab.research.google.com/assets/colab-badge.svg\" alt=\"Open In Colab\"/></a>"
      ]
    },
    {
      "cell_type": "code",
      "metadata": {
        "id": "OJw1waQwsLOA"
      },
      "source": [
        "class Adult:\r\n",
        "  def __init__(self, name, height,weight):\r\n",
        "    self.name = name\r\n",
        "    self.weight = weight\r\n",
        "    self.height = height\r\n",
        "\r\n",
        "  def description(self):\r\n",
        "    print(\"I am an Adult\")"
      ],
      "execution_count": 1,
      "outputs": []
    },
    {
      "cell_type": "code",
      "metadata": {
        "id": "HSMsUtZmtaVb"
      },
      "source": [
        "class Cricketer(Adult):\r\n",
        "  pass"
      ],
      "execution_count": 3,
      "outputs": []
    },
    {
      "cell_type": "code",
      "metadata": {
        "colab": {
          "base_uri": "https://localhost:8080/"
        },
        "id": "WlDq0-citdO7",
        "outputId": "30306745-cd10-45c6-bb61-8cdb79eca215"
      },
      "source": [
        "object1= Cricketer(\"Tom\",168,65)\r\n",
        "print(object1.name)\r\n",
        "object1.description()"
      ],
      "execution_count": 5,
      "outputs": [
        {
          "output_type": "stream",
          "text": [
            "Tom\n",
            "I am an Adult\n"
          ],
          "name": "stdout"
        }
      ]
    },
    {
      "cell_type": "code",
      "metadata": {
        "id": "z0xb8R3FtiKY"
      },
      "source": [
        ""
      ],
      "execution_count": null,
      "outputs": []
    }
  ]
}