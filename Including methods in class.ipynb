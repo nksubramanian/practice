{
  "nbformat": 4,
  "nbformat_minor": 0,
  "metadata": {
    "colab": {
      "name": "Untitled137.ipynb",
      "provenance": [],
      "authorship_tag": "ABX9TyPkE1S0YreFwl9d+trMKHHc",
      "include_colab_link": true
    },
    "kernelspec": {
      "name": "python3",
      "display_name": "Python 3"
    }
  },
  "cells": [
    {
      "cell_type": "markdown",
      "metadata": {
        "id": "view-in-github",
        "colab_type": "text"
      },
      "source": [
        "<a href=\"https://colab.research.google.com/github/pythoncoder100/practice/blob/master/Including%20methods%20in%20class.ipynb\" target=\"_parent\"><img src=\"https://colab.research.google.com/assets/colab-badge.svg\" alt=\"Open In Colab\"/></a>"
      ]
    },
    {
      "cell_type": "code",
      "metadata": {
        "id": "kssjftsYUIl4"
      },
      "source": [
        "class Student:\r\n",
        "  def __init__(self, name, major):\r\n",
        "    self.name = name\r\n",
        "    self.major = major\r\n",
        "  \r\n",
        "  def description(self):\r\n",
        "    print(\"My name is \"+ str(self.name) +\" and my major is \"+str(self.major))\r\n",
        "\r\n",
        "  def greetings(self):\r\n",
        "    print(\"Good Morning!\")\r\n",
        " \r\n",
        "John = Student(\"John\",\"Math\")\r\n",
        "Lisa = Student(\"Lisa\",\"Physics\")"
      ],
      "execution_count": 14,
      "outputs": []
    },
    {
      "cell_type": "code",
      "metadata": {
        "colab": {
          "base_uri": "https://localhost:8080/"
        },
        "id": "OEH7lItpVJoo",
        "outputId": "414ce5a9-51ce-4ac8-ed3f-28fbeb9851cd"
      },
      "source": [
        "John.description()"
      ],
      "execution_count": 15,
      "outputs": [
        {
          "output_type": "stream",
          "text": [
            "My name is John and my major is Math\n"
          ],
          "name": "stdout"
        }
      ]
    },
    {
      "cell_type": "code",
      "metadata": {
        "colab": {
          "base_uri": "https://localhost:8080/"
        },
        "id": "kfhbGot8VO9Z",
        "outputId": "e33429c5-4f28-4292-addc-7a310956abde"
      },
      "source": [
        "Lisa.greetings()"
      ],
      "execution_count": 16,
      "outputs": [
        {
          "output_type": "stream",
          "text": [
            "Good Morning!\n"
          ],
          "name": "stdout"
        }
      ]
    },
    {
      "cell_type": "code",
      "metadata": {
        "id": "UhXy8zk6Vw7t"
      },
      "source": [
        ""
      ],
      "execution_count": null,
      "outputs": []
    }
  ]
}