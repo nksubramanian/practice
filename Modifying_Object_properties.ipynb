{
  "nbformat": 4,
  "nbformat_minor": 0,
  "metadata": {
    "colab": {
      "name": "Modifying Object properties.ipynb",
      "provenance": [],
      "authorship_tag": "ABX9TyP4wF7jTuPMUK3HPatAQZcB",
      "include_colab_link": true
    },
    "kernelspec": {
      "name": "python3",
      "display_name": "Python 3"
    }
  },
  "cells": [
    {
      "cell_type": "markdown",
      "metadata": {
        "id": "view-in-github",
        "colab_type": "text"
      },
      "source": [
        "<a href=\"https://colab.research.google.com/github/pythoncoder100/practice/blob/master/Modifying_Object_properties.ipynb\" target=\"_parent\"><img src=\"https://colab.research.google.com/assets/colab-badge.svg\" alt=\"Open In Colab\"/></a>"
      ]
    },
    {
      "cell_type": "code",
      "metadata": {
        "id": "zzkdOXVOSuGb"
      },
      "source": [
        "class Student:\r\n",
        "  def __init__(self, name, major):\r\n",
        "    self.name = name\r\n",
        "    self.major = major\r\n",
        " \r\n",
        "John = Student(\"John\",\"Math\")"
      ],
      "execution_count": 1,
      "outputs": []
    },
    {
      "cell_type": "code",
      "metadata": {
        "colab": {
          "base_uri": "https://localhost:8080/"
        },
        "id": "uZrme67dSytV",
        "outputId": "930d3756-ef63-4558-9324-ffa9df9007ac"
      },
      "source": [
        " print(John.major)\r\n",
        " John.major=\"Physics\""
      ],
      "execution_count": 2,
      "outputs": [
        {
          "output_type": "stream",
          "text": [
            "Math\n"
          ],
          "name": "stdout"
        }
      ]
    },
    {
      "cell_type": "code",
      "metadata": {
        "colab": {
          "base_uri": "https://localhost:8080/"
        },
        "id": "X0REqtOeTBEL",
        "outputId": "50542297-d802-4357-b57d-9c477a2d350b"
      },
      "source": [
        " print(John.major)"
      ],
      "execution_count": 3,
      "outputs": [
        {
          "output_type": "stream",
          "text": [
            "Physics\n"
          ],
          "name": "stdout"
        }
      ]
    },
    {
      "cell_type": "code",
      "metadata": {
        "id": "HDZN-b9iTDwF"
      },
      "source": [
        ""
      ],
      "execution_count": null,
      "outputs": []
    }
  ]
}