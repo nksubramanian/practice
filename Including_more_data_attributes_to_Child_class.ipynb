{
  "nbformat": 4,
  "nbformat_minor": 0,
  "metadata": {
    "colab": {
      "name": "Including more data attributes to Child class.ipynb",
      "provenance": [],
      "authorship_tag": "ABX9TyOkObjZZisCUuOWSW6IXMKs",
      "include_colab_link": true
    },
    "kernelspec": {
      "name": "python3",
      "display_name": "Python 3"
    }
  },
  "cells": [
    {
      "cell_type": "markdown",
      "metadata": {
        "id": "view-in-github",
        "colab_type": "text"
      },
      "source": [
        "<a href=\"https://colab.research.google.com/github/pythoncoder100/practice/blob/master/Including_more_data_attributes_to_Child_class.ipynb\" target=\"_parent\"><img src=\"https://colab.research.google.com/assets/colab-badge.svg\" alt=\"Open In Colab\"/></a>"
      ]
    },
    {
      "cell_type": "code",
      "metadata": {
        "id": "0QCZsqayzBLK"
      },
      "source": [
        "class Adult:\r\n",
        "  def __init__(self, name, height,weight):\r\n",
        "    self.name = name\r\n",
        "    self.weight = weight\r\n",
        "    self.height = height\r\n",
        "\r\n",
        "  def description(self):\r\n",
        "    print(\"I am an Adult\")"
      ],
      "execution_count": 7,
      "outputs": []
    },
    {
      "cell_type": "code",
      "metadata": {
        "id": "Yyggq8uFzEW-"
      },
      "source": [
        "class Cricketer(Adult):\r\n",
        "  def __init__(self, name, height,weight,age):\r\n",
        "    Adult.__init__(self, name, height,weight)\r\n",
        "    self.age=age"
      ],
      "execution_count": 10,
      "outputs": []
    },
    {
      "cell_type": "code",
      "metadata": {
        "id": "J740nOXDzfIx"
      },
      "source": [
        "object1 = Cricketer(\"Tom\",168, 65,22)"
      ],
      "execution_count": 11,
      "outputs": []
    },
    {
      "cell_type": "code",
      "metadata": {
        "colab": {
          "base_uri": "https://localhost:8080/"
        },
        "id": "4yVhNIDazsv-",
        "outputId": "92abf8ea-0a09-4930-c38b-725c1544daf1"
      },
      "source": [
        "object1.age"
      ],
      "execution_count": 13,
      "outputs": [
        {
          "output_type": "execute_result",
          "data": {
            "text/plain": [
              "22"
            ]
          },
          "metadata": {
            "tags": []
          },
          "execution_count": 13
        }
      ]
    },
    {
      "cell_type": "code",
      "metadata": {
        "id": "ypEefu8n0LXW"
      },
      "source": [
        ""
      ],
      "execution_count": null,
      "outputs": []
    }
  ]
}