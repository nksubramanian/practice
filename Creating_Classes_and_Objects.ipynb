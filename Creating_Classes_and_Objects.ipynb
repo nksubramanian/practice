{
  "nbformat": 4,
  "nbformat_minor": 0,
  "metadata": {
    "colab": {
      "name": "Creating Classes and Objects.ipynb",
      "provenance": [],
      "authorship_tag": "ABX9TyPAGpltdj3l/YdEQnBu8POZ",
      "include_colab_link": true
    },
    "kernelspec": {
      "name": "python3",
      "display_name": "Python 3"
    }
  },
  "cells": [
    {
      "cell_type": "markdown",
      "metadata": {
        "id": "view-in-github",
        "colab_type": "text"
      },
      "source": [
        "<a href=\"https://colab.research.google.com/github/pythoncoder100/practice/blob/master/Creating_Classes_and_Objects.ipynb\" target=\"_parent\"><img src=\"https://colab.research.google.com/assets/colab-badge.svg\" alt=\"Open In Colab\"/></a>"
      ]
    },
    {
      "cell_type": "code",
      "metadata": {
        "id": "jGPjirnIFAq8"
      },
      "source": [
        "class MyFirstClass:\r\n",
        "  x=5"
      ],
      "execution_count": 5,
      "outputs": []
    },
    {
      "cell_type": "code",
      "metadata": {
        "id": "MyKGxxR8FQ6D"
      },
      "source": [
        "object1=MyFirstClass()\r\n",
        "object2=MyFirstClass()\r\n"
      ],
      "execution_count": 6,
      "outputs": []
    },
    {
      "cell_type": "code",
      "metadata": {
        "colab": {
          "base_uri": "https://localhost:8080/"
        },
        "id": "lGXHESRyFV2L",
        "outputId": "2442e5b7-7fdf-48fa-e383-61f5e20f7095"
      },
      "source": [
        "print(object1.x)\r\n",
        "print(object2.x)"
      ],
      "execution_count": 7,
      "outputs": [
        {
          "output_type": "stream",
          "text": [
            "5\n",
            "5\n"
          ],
          "name": "stdout"
        }
      ]
    },
    {
      "cell_type": "code",
      "metadata": {
        "id": "rnfNVVxaFZGP"
      },
      "source": [
        ""
      ],
      "execution_count": null,
      "outputs": []
    }
  ]
}