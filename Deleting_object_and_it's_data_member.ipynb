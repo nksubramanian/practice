{
  "nbformat": 4,
  "nbformat_minor": 0,
  "metadata": {
    "colab": {
      "name": "Deleting object and it's data member.ipynb",
      "provenance": [],
      "authorship_tag": "ABX9TyN47GeON78BWqMSDNzDAB3s",
      "include_colab_link": true
    },
    "kernelspec": {
      "name": "python3",
      "display_name": "Python 3"
    }
  },
  "cells": [
    {
      "cell_type": "markdown",
      "metadata": {
        "id": "view-in-github",
        "colab_type": "text"
      },
      "source": [
        "<a href=\"https://colab.research.google.com/github/pythoncoder100/practice/blob/master/Deleting_object_and_it's_data_member.ipynb\" target=\"_parent\"><img src=\"https://colab.research.google.com/assets/colab-badge.svg\" alt=\"Open In Colab\"/></a>"
      ]
    },
    {
      "cell_type": "code",
      "metadata": {
        "id": "1evPWFkUaayu"
      },
      "source": [
        "class Student:\r\n",
        "  def __init__(self, name, major):\r\n",
        "    self.name = name\r\n",
        "    self.major = major"
      ],
      "execution_count": 1,
      "outputs": []
    },
    {
      "cell_type": "code",
      "metadata": {
        "id": "2lfVr803agjM"
      },
      "source": [
        "John = Student(\"John\",\"Math\")\r\n",
        "del John.name\r\n",
        "del John"
      ],
      "execution_count": 2,
      "outputs": []
    },
    {
      "cell_type": "code",
      "metadata": {
        "id": "UX3vR-ddaoS3"
      },
      "source": [
        ""
      ],
      "execution_count": null,
      "outputs": []
    }
  ]
}