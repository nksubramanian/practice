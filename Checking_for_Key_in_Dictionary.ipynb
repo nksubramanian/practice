{
  "nbformat": 4,
  "nbformat_minor": 0,
  "metadata": {
    "colab": {
      "name": "Checking for Key in Dictionary.ipynb",
      "provenance": [],
      "authorship_tag": "ABX9TyO7BicTYycFsydZhufv3AJH",
      "include_colab_link": true
    },
    "kernelspec": {
      "name": "python3",
      "display_name": "Python 3"
    }
  },
  "cells": [
    {
      "cell_type": "markdown",
      "metadata": {
        "id": "view-in-github",
        "colab_type": "text"
      },
      "source": [
        "<a href=\"https://colab.research.google.com/github/pythoncoder100/practice/blob/master/Checking_for_Key_in_Dictionary.ipynb\" target=\"_parent\"><img src=\"https://colab.research.google.com/assets/colab-badge.svg\" alt=\"Open In Colab\"/></a>"
      ]
    },
    {
      "cell_type": "code",
      "metadata": {
        "id": "yh-DRZdeaqin"
      },
      "source": [
        "Sheela = {\r\n",
        "\"Major\": \"Chemistry\",\r\n",
        "\"Age\": 21,\r\n",
        "\"Gender\": \"Female\",\r\n",
        "}"
      ],
      "execution_count": 1,
      "outputs": []
    },
    {
      "cell_type": "code",
      "metadata": {
        "colab": {
          "base_uri": "https://localhost:8080/"
        },
        "id": "8w7w1TXxa00w",
        "outputId": "57e4bf29-db73-4ccd-fa52-4cc2a5ef80e6"
      },
      "source": [
        "\"Major\" in Sheela"
      ],
      "execution_count": 2,
      "outputs": [
        {
          "output_type": "execute_result",
          "data": {
            "text/plain": [
              "True"
            ]
          },
          "metadata": {
            "tags": []
          },
          "execution_count": 2
        }
      ]
    },
    {
      "cell_type": "code",
      "metadata": {
        "colab": {
          "base_uri": "https://localhost:8080/"
        },
        "id": "cxEWvHHQa5sh",
        "outputId": "d939b523-f8f8-49f8-f6f9-76d239d4e068"
      },
      "source": [
        "\"Major\" not in Sheela"
      ],
      "execution_count": 3,
      "outputs": [
        {
          "output_type": "execute_result",
          "data": {
            "text/plain": [
              "False"
            ]
          },
          "metadata": {
            "tags": []
          },
          "execution_count": 3
        }
      ]
    },
    {
      "cell_type": "code",
      "metadata": {
        "id": "v6KZdWooa_CQ"
      },
      "source": [
        ""
      ],
      "execution_count": null,
      "outputs": []
    }
  ]
}