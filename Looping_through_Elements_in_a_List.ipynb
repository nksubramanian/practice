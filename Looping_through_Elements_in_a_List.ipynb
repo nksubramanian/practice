{
  "nbformat": 4,
  "nbformat_minor": 0,
  "metadata": {
    "colab": {
      "name": "Looping through Elements in a List.ipynb",
      "provenance": [],
      "authorship_tag": "ABX9TyNzKdZalCL0eTH2opFY5XwB",
      "include_colab_link": true
    },
    "kernelspec": {
      "name": "python3",
      "display_name": "Python 3"
    }
  },
  "cells": [
    {
      "cell_type": "markdown",
      "metadata": {
        "id": "view-in-github",
        "colab_type": "text"
      },
      "source": [
        "<a href=\"https://colab.research.google.com/github/pythoncoder100/practice/blob/master/Looping_through_Elements_in_a_List.ipynb\" target=\"_parent\"><img src=\"https://colab.research.google.com/assets/colab-badge.svg\" alt=\"Open In Colab\"/></a>"
      ]
    },
    {
      "cell_type": "code",
      "metadata": {
        "colab": {
          "base_uri": "https://localhost:8080/"
        },
        "id": "y2rD3eoRovbE",
        "outputId": "42272a43-9d16-4360-8d1e-44a7d8326f1a"
      },
      "source": [
        "\r\n",
        "List1=[1,2,3,4]\r\n",
        "for iter in List1:\r\n",
        "  print(iter)"
      ],
      "execution_count": 1,
      "outputs": [
        {
          "output_type": "stream",
          "text": [
            "1\n",
            "2\n",
            "3\n",
            "4\n"
          ],
          "name": "stdout"
        }
      ]
    },
    {
      "cell_type": "code",
      "metadata": {
        "colab": {
          "base_uri": "https://localhost:8080/"
        },
        "id": "SAarAK2wowGm",
        "outputId": "228e5359-48f7-42b7-897e-837c92ae8fef"
      },
      "source": [
        " iter=0\r\n",
        " List1=[1,2,3,4]\r\n",
        " while(iter<len(List1)):\r\n",
        "  print(List1[iter])\r\n",
        "  iter+=1"
      ],
      "execution_count": 3,
      "outputs": [
        {
          "output_type": "stream",
          "text": [
            "1\n",
            "2\n",
            "3\n",
            "4\n"
          ],
          "name": "stdout"
        }
      ]
    },
    {
      "cell_type": "code",
      "metadata": {
        "id": "z1Y0gWGso5vj"
      },
      "source": [
        ""
      ],
      "execution_count": null,
      "outputs": []
    }
  ]
}