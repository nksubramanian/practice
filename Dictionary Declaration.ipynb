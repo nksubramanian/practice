{
  "nbformat": 4,
  "nbformat_minor": 0,
  "metadata": {
    "colab": {
      "name": "Untitled127.ipynb",
      "provenance": [],
      "authorship_tag": "ABX9TyO0LyftJ80MXkKr8YLSB2Iq",
      "include_colab_link": true
    },
    "kernelspec": {
      "name": "python3",
      "display_name": "Python 3"
    }
  },
  "cells": [
    {
      "cell_type": "markdown",
      "metadata": {
        "id": "view-in-github",
        "colab_type": "text"
      },
      "source": [
        "<a href=\"https://colab.research.google.com/github/pythoncoder100/practice/blob/master/Dictionary%20Declaration.ipynb\" target=\"_parent\"><img src=\"https://colab.research.google.com/assets/colab-badge.svg\" alt=\"Open In Colab\"/></a>"
      ]
    },
    {
      "cell_type": "code",
      "metadata": {
        "colab": {
          "base_uri": "https://localhost:8080/"
        },
        "id": "dzjiXPzsLMXs",
        "outputId": "fcc69dc7-da5f-4326-d6b8-b0d8cdbab0e1"
      },
      "source": [
        "Tom = {\r\n",
        "  \"Major\": \"Physics\",\r\n",
        "  \"Age\": 22,\r\n",
        "  \"Gender\": \"Male\",\r\n",
        "}\r\n",
        "print(Tom)"
      ],
      "execution_count": 1,
      "outputs": [
        {
          "output_type": "stream",
          "text": [
            "{'Major': 'Physics', 'Age': 22, 'Gender': 'Male'}\n"
          ],
          "name": "stdout"
        }
      ]
    },
    {
      "cell_type": "code",
      "metadata": {
        "id": "AenPnqLtLNbu"
      },
      "source": [
        "Sheela = {\r\n",
        "  \"Major\": \"Chemistry\",\r\n",
        "  \"Age\": 21,\r\n",
        "  \"Gender\": \"Female\",\r\n",
        "}"
      ],
      "execution_count": 5,
      "outputs": []
    },
    {
      "cell_type": "code",
      "metadata": {
        "colab": {
          "base_uri": "https://localhost:8080/"
        },
        "id": "clMRgE-5LUhW",
        "outputId": "8dafcfba-44e9-4a63-c80d-3780e0b2d67b"
      },
      "source": [
        "print(Sheela)"
      ],
      "execution_count": 6,
      "outputs": [
        {
          "output_type": "stream",
          "text": [
            "{'Major': 'Chemistry', 'Age': 21, 'Gender': 'Female'}\n"
          ],
          "name": "stdout"
        }
      ]
    },
    {
      "cell_type": "code",
      "metadata": {
        "id": "mOOTJ_pDLd4A"
      },
      "source": [
        ""
      ],
      "execution_count": null,
      "outputs": []
    }
  ]
}