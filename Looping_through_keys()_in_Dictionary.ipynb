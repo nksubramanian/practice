{
  "nbformat": 4,
  "nbformat_minor": 0,
  "metadata": {
    "colab": {
      "name": "Looping through keys() in Dictionary.ipynb",
      "provenance": [],
      "authorship_tag": "ABX9TyNlhJa1ABN4u4kceAxldqSP",
      "include_colab_link": true
    },
    "kernelspec": {
      "name": "python3",
      "display_name": "Python 3"
    }
  },
  "cells": [
    {
      "cell_type": "markdown",
      "metadata": {
        "id": "view-in-github",
        "colab_type": "text"
      },
      "source": [
        "<a href=\"https://colab.research.google.com/github/pythoncoder100/practice/blob/master/Looping_through_keys()_in_Dictionary.ipynb\" target=\"_parent\"><img src=\"https://colab.research.google.com/assets/colab-badge.svg\" alt=\"Open In Colab\"/></a>"
      ]
    },
    {
      "cell_type": "code",
      "metadata": {
        "colab": {
          "base_uri": "https://localhost:8080/"
        },
        "id": "BJI1oppc9Hjw",
        "outputId": "2b68594d-b854-4fcc-bd0f-22d3d34f5c59"
      },
      "source": [
        "Sheela = { \"Major\": \"Chemistry\", \"Age\": 21, \"Gender\": \"Female\", \"Qualification\":\"Bachelor\" }\r\n",
        "for x in Sheela.keys():\r\n",
        "  print(x)"
      ],
      "execution_count": 2,
      "outputs": [
        {
          "output_type": "stream",
          "text": [
            "Major\n",
            "Age\n",
            "Gender\n",
            "Qualification\n"
          ],
          "name": "stdout"
        }
      ]
    },
    {
      "cell_type": "code",
      "metadata": {
        "id": "EipK0MJu9Lfk"
      },
      "source": [
        ""
      ],
      "execution_count": null,
      "outputs": []
    }
  ]
}