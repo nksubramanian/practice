{
  "nbformat": 4,
  "nbformat_minor": 0,
  "metadata": {
    "colab": {
      "name": "Overriding methods of parent class.ipynb",
      "provenance": [],
      "authorship_tag": "ABX9TyPFHk6mpWAOFb8vwH8X72Zw",
      "include_colab_link": true
    },
    "kernelspec": {
      "name": "python3",
      "display_name": "Python 3"
    }
  },
  "cells": [
    {
      "cell_type": "markdown",
      "metadata": {
        "id": "view-in-github",
        "colab_type": "text"
      },
      "source": [
        "<a href=\"https://colab.research.google.com/github/pythoncoder100/practice/blob/master/Overriding_methods_of_parent_class.ipynb\" target=\"_parent\"><img src=\"https://colab.research.google.com/assets/colab-badge.svg\" alt=\"Open In Colab\"/></a>"
      ]
    },
    {
      "cell_type": "code",
      "metadata": {
        "id": "eE2-GbuA58VG"
      },
      "source": [
        "class Adult:\r\n",
        "  def __init__(self, name, height,weight):\r\n",
        "    self.name = name\r\n",
        "    self.weight = weight\r\n",
        "    self.height = height\r\n",
        "\r\n",
        "  def voter(self):\r\n",
        "    print(\"I am allowed to vote\")\r\n",
        "\r\n",
        "  def description(self):\r\n",
        "    print(\"I am an Adult\")"
      ],
      "execution_count": 7,
      "outputs": []
    },
    {
      "cell_type": "code",
      "metadata": {
        "id": "cVtSygI_7Dc-"
      },
      "source": [
        "class Cricketer(Adult):\r\n",
        "    def description(self):\r\n",
        "      print(\"I am a Cricketer\")\r\n",
        "\r\n"
      ],
      "execution_count": 8,
      "outputs": []
    },
    {
      "cell_type": "code",
      "metadata": {
        "colab": {
          "base_uri": "https://localhost:8080/"
        },
        "id": "_RnvhwZB7QU6",
        "outputId": "165860e1-d80b-44b3-c631-af12dc4a0bae"
      },
      "source": [
        "object1 = Cricketer(\"Tom\",168, 65)\r\n",
        "object1.voter()\r\n",
        "object1.description()"
      ],
      "execution_count": 10,
      "outputs": [
        {
          "output_type": "stream",
          "text": [
            "I am allowed to vote\n",
            "I am a Cricketer\n"
          ],
          "name": "stdout"
        }
      ]
    },
    {
      "cell_type": "code",
      "metadata": {
        "id": "1PmJp6XO7Z2y"
      },
      "source": [
        ""
      ],
      "execution_count": null,
      "outputs": []
    }
  ]
}