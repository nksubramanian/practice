{
  "nbformat": 4,
  "nbformat_minor": 0,
  "metadata": {
    "colab": {
      "name": "Functions Declaration and Calling.ipynb",
      "provenance": [],
      "authorship_tag": "ABX9TyOUXGqDzt7o0sqrmNYRiYOY",
      "include_colab_link": true
    },
    "kernelspec": {
      "name": "python3",
      "display_name": "Python 3"
    }
  },
  "cells": [
    {
      "cell_type": "markdown",
      "metadata": {
        "id": "view-in-github",
        "colab_type": "text"
      },
      "source": [
        "<a href=\"https://colab.research.google.com/github/pythoncoder100/practice/blob/master/Functions_Declaration_and_Calling.ipynb\" target=\"_parent\"><img src=\"https://colab.research.google.com/assets/colab-badge.svg\" alt=\"Open In Colab\"/></a>"
      ]
    },
    {
      "cell_type": "code",
      "metadata": {
        "id": "mC0js9yRN9Ux"
      },
      "source": [
        "def myfirstfunction(number):\r\n",
        "  twicethenumber =2*number\r\n",
        "  return twicethenumber\r\n"
      ],
      "execution_count": 1,
      "outputs": []
    },
    {
      "cell_type": "code",
      "metadata": {
        "colab": {
          "base_uri": "https://localhost:8080/"
        },
        "id": "8aZ2wYw3S6ej",
        "outputId": "6a95ee02-ed94-4778-8ba2-4828fcd15ec7"
      },
      "source": [
        "print(\"My first function is above and below I would be calling it\")"
      ],
      "execution_count": 2,
      "outputs": [
        {
          "output_type": "stream",
          "text": [
            "I have written by first function above that returns twice the number\n"
          ],
          "name": "stdout"
        }
      ]
    },
    {
      "cell_type": "code",
      "metadata": {
        "colab": {
          "base_uri": "https://localhost:8080/"
        },
        "id": "oYRjOmybTJJ2",
        "outputId": "eead5ae8-6dd5-4345-ee13-bc8ae211ef63"
      },
      "source": [
        "two_a=myfirstfunction(5) \r\n",
        "print(two_a)"
      ],
      "execution_count": 5,
      "outputs": [
        {
          "output_type": "stream",
          "text": [
            "10\n"
          ],
          "name": "stdout"
        }
      ]
    },
    {
      "cell_type": "code",
      "metadata": {
        "id": "ig0Q6s2MTSET"
      },
      "source": [
        ""
      ],
      "execution_count": null,
      "outputs": []
    }
  ]
}