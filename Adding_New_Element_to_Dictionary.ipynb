{
  "nbformat": 4,
  "nbformat_minor": 0,
  "metadata": {
    "colab": {
      "name": "Adding New Element to Dictionary.ipynb",
      "provenance": [],
      "authorship_tag": "ABX9TyMRIzKK2gKy6XgUWcnfoWSv",
      "include_colab_link": true
    },
    "kernelspec": {
      "name": "python3",
      "display_name": "Python 3"
    }
  },
  "cells": [
    {
      "cell_type": "markdown",
      "metadata": {
        "id": "view-in-github",
        "colab_type": "text"
      },
      "source": [
        "<a href=\"https://colab.research.google.com/github/pythoncoder100/practice/blob/master/Adding_New_Element_to_Dictionary.ipynb\" target=\"_parent\"><img src=\"https://colab.research.google.com/assets/colab-badge.svg\" alt=\"Open In Colab\"/></a>"
      ]
    },
    {
      "cell_type": "code",
      "metadata": {
        "id": "phQV8f_1vRXc"
      },
      "source": [
        "\r\n",
        "Sheela = {\r\n",
        "\"Major\": \"Chemistry\",\r\n",
        "\"Age\": 21,\r\n",
        "\"Gender\": \"Female\",\r\n",
        "}\r\n"
      ],
      "execution_count": 2,
      "outputs": []
    },
    {
      "cell_type": "code",
      "metadata": {
        "id": "mkYpmWZWvVDV"
      },
      "source": [
        "Sheela[\"Nationality\"]=\"Australia\"\r\n"
      ],
      "execution_count": 3,
      "outputs": []
    },
    {
      "cell_type": "code",
      "metadata": {
        "colab": {
          "base_uri": "https://localhost:8080/"
        },
        "id": "fbN5ajApvZ3T",
        "outputId": "190a468a-b172-4c9c-a51c-261c391fbec7"
      },
      "source": [
        "print(Sheela)"
      ],
      "execution_count": 4,
      "outputs": [
        {
          "output_type": "stream",
          "text": [
            "{'Major': 'Chemistry', 'Age': 21, 'Gender': 'Female', 'Nationality': 'Australia'}\n"
          ],
          "name": "stdout"
        }
      ]
    },
    {
      "cell_type": "code",
      "metadata": {
        "id": "yJrzgvM1vceM"
      },
      "source": [
        "Sheela.update({\"qualification\":\"Bachelors\"})"
      ],
      "execution_count": 8,
      "outputs": []
    },
    {
      "cell_type": "code",
      "metadata": {
        "colab": {
          "base_uri": "https://localhost:8080/"
        },
        "id": "8yxR83srvzyF",
        "outputId": "58bf74ef-748c-484c-86ad-493d5410b2e8"
      },
      "source": [
        "print(Sheela)"
      ],
      "execution_count": 10,
      "outputs": [
        {
          "output_type": "stream",
          "text": [
            "{'Major': 'Chemistry', 'Age': 21, 'Gender': 'Female', 'Nationality': 'Australia', 'qualification': 'Bachelors'}\n"
          ],
          "name": "stdout"
        }
      ]
    },
    {
      "cell_type": "code",
      "metadata": {
        "id": "7vxsqtHLv_A-"
      },
      "source": [
        ""
      ],
      "execution_count": null,
      "outputs": []
    }
  ]
}