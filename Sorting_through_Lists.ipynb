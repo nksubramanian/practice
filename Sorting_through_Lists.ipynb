{
  "nbformat": 4,
  "nbformat_minor": 0,
  "metadata": {
    "colab": {
      "name": "Sorting through Lists.ipynb",
      "provenance": [],
      "authorship_tag": "ABX9TyOcf9qItTScpVpmmuCNc1yg",
      "include_colab_link": true
    },
    "kernelspec": {
      "name": "python3",
      "display_name": "Python 3"
    }
  },
  "cells": [
    {
      "cell_type": "markdown",
      "metadata": {
        "id": "view-in-github",
        "colab_type": "text"
      },
      "source": [
        "<a href=\"https://colab.research.google.com/github/pythoncoder100/practice/blob/master/Sorting_through_Lists.ipynb\" target=\"_parent\"><img src=\"https://colab.research.google.com/assets/colab-badge.svg\" alt=\"Open In Colab\"/></a>"
      ]
    },
    {
      "cell_type": "code",
      "metadata": {
        "id": "Z3WJh_nTs1CM"
      },
      "source": [
        "list1=['b','c','a','d']"
      ],
      "execution_count": 3,
      "outputs": []
    },
    {
      "cell_type": "code",
      "metadata": {
        "colab": {
          "base_uri": "https://localhost:8080/"
        },
        "id": "0ubA07Q9tE6V",
        "outputId": "7f273982-2b47-4bd9-d353-31cc226115a8"
      },
      "source": [
        "list1.sort()\r\n",
        "print(list1)"
      ],
      "execution_count": 4,
      "outputs": [
        {
          "output_type": "stream",
          "text": [
            "['a', 'b', 'c', 'd']\n"
          ],
          "name": "stdout"
        }
      ]
    },
    {
      "cell_type": "code",
      "metadata": {
        "id": "yBIX6WdqtT6M"
      },
      "source": [
        "list2=[1,3,4,5,2]\r\n"
      ],
      "execution_count": 6,
      "outputs": []
    },
    {
      "cell_type": "code",
      "metadata": {
        "colab": {
          "base_uri": "https://localhost:8080/"
        },
        "id": "040WCQYgtYzs",
        "outputId": "76a41764-d748-4ae0-ac42-92959345cd5c"
      },
      "source": [
        "list2.sort()\r\n",
        "print(list2)"
      ],
      "execution_count": 7,
      "outputs": [
        {
          "output_type": "stream",
          "text": [
            "[1, 2, 3, 4, 5]\n"
          ],
          "name": "stdout"
        }
      ]
    },
    {
      "cell_type": "code",
      "metadata": {
        "id": "-aBWkV4jtfI-"
      },
      "source": [
        "list3=['apple','cat','dog','ball']"
      ],
      "execution_count": 8,
      "outputs": []
    },
    {
      "cell_type": "code",
      "metadata": {
        "colab": {
          "base_uri": "https://localhost:8080/"
        },
        "id": "QCE6ePBtturK",
        "outputId": "b431f10e-bd1b-4c5b-dd21-8bbce188460a"
      },
      "source": [
        "list3.sort(reverse=True)\r\n",
        "print(list3)"
      ],
      "execution_count": 10,
      "outputs": [
        {
          "output_type": "stream",
          "text": [
            "['dog', 'cat', 'ball', 'apple']\n"
          ],
          "name": "stdout"
        }
      ]
    },
    {
      "cell_type": "code",
      "metadata": {
        "id": "toETu6pDtx1l"
      },
      "source": [
        "list4=[4,2,3,1]"
      ],
      "execution_count": 11,
      "outputs": []
    },
    {
      "cell_type": "code",
      "metadata": {
        "colab": {
          "base_uri": "https://localhost:8080/"
        },
        "id": "sA2ydfEZt3FA",
        "outputId": "fcc0c85f-60a5-4f86-9d27-de17bf67b39b"
      },
      "source": [
        "list4.sort(reverse=True)\r\n",
        "print(list4)"
      ],
      "execution_count": 12,
      "outputs": [
        {
          "output_type": "stream",
          "text": [
            "[4, 3, 2, 1]\n"
          ],
          "name": "stdout"
        }
      ]
    },
    {
      "cell_type": "code",
      "metadata": {
        "id": "QyFJ4b7nt8Q8"
      },
      "source": [
        "list5=['apple','Cat','dog','Ball']\r\n",
        "list5.sort(key = str.lower)"
      ],
      "execution_count": 13,
      "outputs": []
    },
    {
      "cell_type": "code",
      "metadata": {
        "colab": {
          "base_uri": "https://localhost:8080/"
        },
        "id": "Hb1yh3rtuWID",
        "outputId": "3f3bfad9-54c5-41e6-f5d8-731e4085afd6"
      },
      "source": [
        "print(list5)"
      ],
      "execution_count": 14,
      "outputs": [
        {
          "output_type": "stream",
          "text": [
            "['apple', 'Ball', 'Cat', 'dog']\n"
          ],
          "name": "stdout"
        }
      ]
    },
    {
      "cell_type": "code",
      "metadata": {
        "id": "LrU4qU91uXxz"
      },
      "source": [
        ""
      ],
      "execution_count": null,
      "outputs": []
    }
  ]
}