{
  "nbformat": 4,
  "nbformat_minor": 0,
  "metadata": {
    "colab": {
      "name": "Adding New Element to a List.ipynb",
      "provenance": [],
      "authorship_tag": "ABX9TyP2JdNXOHN5ibHIMGl/8V5k",
      "include_colab_link": true
    },
    "kernelspec": {
      "name": "python3",
      "display_name": "Python 3"
    }
  },
  "cells": [
    {
      "cell_type": "markdown",
      "metadata": {
        "id": "view-in-github",
        "colab_type": "text"
      },
      "source": [
        "<a href=\"https://colab.research.google.com/github/pythoncoder100/practice/blob/master/Adding_New_Element_to_a_List.ipynb\" target=\"_parent\"><img src=\"https://colab.research.google.com/assets/colab-badge.svg\" alt=\"Open In Colab\"/></a>"
      ]
    },
    {
      "cell_type": "code",
      "metadata": {
        "id": "mDDLs-KnY8eA"
      },
      "source": [
        "list1=['a','ab',1,2]\r\n",
        "list2=[2,3,4,\"apple\"]"
      ],
      "execution_count": 2,
      "outputs": []
    },
    {
      "cell_type": "code",
      "metadata": {
        "colab": {
          "base_uri": "https://localhost:8080/"
        },
        "id": "Kfr8Xf6-ZmqS",
        "outputId": "0c137bbd-70a5-4dec-979e-3dba7dd884ff"
      },
      "source": [
        "list1.append(45)\r\n",
        "print(list1)"
      ],
      "execution_count": 4,
      "outputs": [
        {
          "output_type": "stream",
          "text": [
            "['a', 'ab', 1, 2, 45, 45]\n"
          ],
          "name": "stdout"
        }
      ]
    },
    {
      "cell_type": "code",
      "metadata": {
        "id": "lo6e1pkoeQUA"
      },
      "source": [
        "list1.insert(1,2)"
      ],
      "execution_count": 5,
      "outputs": []
    },
    {
      "cell_type": "code",
      "metadata": {
        "colab": {
          "base_uri": "https://localhost:8080/"
        },
        "id": "7gvtV8G_eX65",
        "outputId": "9ac19de4-f6c2-46c5-8cad-ab510cfad195"
      },
      "source": [
        "print(list1)"
      ],
      "execution_count": 6,
      "outputs": [
        {
          "output_type": "stream",
          "text": [
            "['a', 2, 'ab', 1, 2, 45, 45]\n"
          ],
          "name": "stdout"
        }
      ]
    },
    {
      "cell_type": "code",
      "metadata": {
        "id": "Md8mcmWQeZfA"
      },
      "source": [
        "list1.extend(list2)"
      ],
      "execution_count": 8,
      "outputs": []
    },
    {
      "cell_type": "code",
      "metadata": {
        "colab": {
          "base_uri": "https://localhost:8080/"
        },
        "id": "PM7xQR8meem3",
        "outputId": "685e0a2b-b8e9-4054-d336-e991295ab184"
      },
      "source": [
        "print(list1)"
      ],
      "execution_count": 9,
      "outputs": [
        {
          "output_type": "stream",
          "text": [
            "['a', 2, 'ab', 1, 2, 45, 45, 2, 3, 4, 'apple']\n"
          ],
          "name": "stdout"
        }
      ]
    },
    {
      "cell_type": "code",
      "metadata": {
        "id": "0zSofgtwfSx2"
      },
      "source": [
        ""
      ],
      "execution_count": null,
      "outputs": []
    }
  ]
}