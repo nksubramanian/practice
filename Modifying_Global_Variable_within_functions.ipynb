{
  "nbformat": 4,
  "nbformat_minor": 0,
  "metadata": {
    "colab": {
      "name": "Modifying Global Variable within functions.ipynb",
      "provenance": [],
      "authorship_tag": "ABX9TyOLisJb1gLErbJ1LvcxRWi/",
      "include_colab_link": true
    },
    "kernelspec": {
      "name": "python3",
      "display_name": "Python 3"
    }
  },
  "cells": [
    {
      "cell_type": "markdown",
      "metadata": {
        "id": "view-in-github",
        "colab_type": "text"
      },
      "source": [
        "<a href=\"https://colab.research.google.com/github/pythoncoder100/practice/blob/master/Modifying_Global_Variable_within_functions.ipynb\" target=\"_parent\"><img src=\"https://colab.research.google.com/assets/colab-badge.svg\" alt=\"Open In Colab\"/></a>"
      ]
    },
    {
      "cell_type": "code",
      "metadata": {
        "id": "IRDD8QJBui1y"
      },
      "source": [
        "def experiment():\r\n",
        "  global x\r\n",
        "  x=\"I am changed\""
      ],
      "execution_count": 2,
      "outputs": []
    },
    {
      "cell_type": "code",
      "metadata": {
        "colab": {
          "base_uri": "https://localhost:8080/"
        },
        "id": "8ik2ydaExpaD",
        "outputId": "9a4d7a77-5901-4e0a-e1f9-71b58c9d03bf"
      },
      "source": [
        "x=\"I am global\"\r\n",
        "print(x)\r\n",
        "experiment()\r\n",
        "print(x)"
      ],
      "execution_count": 3,
      "outputs": [
        {
          "output_type": "stream",
          "text": [
            "I am global\n",
            "I am changed\n"
          ],
          "name": "stdout"
        }
      ]
    },
    {
      "cell_type": "code",
      "metadata": {
        "id": "qTIxHiYmx7c0"
      },
      "source": [
        ""
      ],
      "execution_count": null,
      "outputs": []
    }
  ]
}