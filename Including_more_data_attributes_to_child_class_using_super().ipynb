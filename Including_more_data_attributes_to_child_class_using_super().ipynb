{
  "nbformat": 4,
  "nbformat_minor": 0,
  "metadata": {
    "colab": {
      "name": "Including more data attributes to child class using super().ipynb",
      "provenance": [],
      "authorship_tag": "ABX9TyOvk7omZYTtoCeeC9TYZQW2",
      "include_colab_link": true
    },
    "kernelspec": {
      "name": "python3",
      "display_name": "Python 3"
    }
  },
  "cells": [
    {
      "cell_type": "markdown",
      "metadata": {
        "id": "view-in-github",
        "colab_type": "text"
      },
      "source": [
        "<a href=\"https://colab.research.google.com/github/pythoncoder100/practice/blob/master/Including_more_data_attributes_to_child_class_using_super().ipynb\" target=\"_parent\"><img src=\"https://colab.research.google.com/assets/colab-badge.svg\" alt=\"Open In Colab\"/></a>"
      ]
    },
    {
      "cell_type": "code",
      "metadata": {
        "id": "CtLbc4ZJ3x1M"
      },
      "source": [
        "class Adult:\r\n",
        "  def __init__(self, name, height,weight):\r\n",
        "    self.name = name\r\n",
        "    self.weight = weight\r\n",
        "    self.height = height\r\n",
        "\r\n",
        "  def description(self):\r\n",
        "    print(\"I am an Adult\")"
      ],
      "execution_count": 1,
      "outputs": []
    },
    {
      "cell_type": "code",
      "metadata": {
        "id": "7BhhH5N73yqP"
      },
      "source": [
        "class Cricketer(Adult):\r\n",
        " def __init__(self,name, height,weight,age):\r\n",
        "   super().__init__(name, height,weight)\r\n",
        "   self.age=age"
      ],
      "execution_count": 10,
      "outputs": []
    },
    {
      "cell_type": "code",
      "metadata": {
        "colab": {
          "base_uri": "https://localhost:8080/"
        },
        "id": "FqwTZRnM31qI",
        "outputId": "c30e7f94-c430-4569-e653-9d14b756a94d"
      },
      "source": [
        "object1 = Cricketer(\"Tom\",168, 65,22)\r\n",
        "object1.age"
      ],
      "execution_count": 11,
      "outputs": [
        {
          "output_type": "execute_result",
          "data": {
            "text/plain": [
              "22"
            ]
          },
          "metadata": {
            "tags": []
          },
          "execution_count": 11
        }
      ]
    },
    {
      "cell_type": "code",
      "metadata": {
        "id": "O-9t1yEy33kp"
      },
      "source": [
        ""
      ],
      "execution_count": null,
      "outputs": []
    }
  ]
}