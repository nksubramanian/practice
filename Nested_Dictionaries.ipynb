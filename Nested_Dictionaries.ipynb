{
  "nbformat": 4,
  "nbformat_minor": 0,
  "metadata": {
    "colab": {
      "name": "Nested Dictionaries.ipynb",
      "provenance": [],
      "authorship_tag": "ABX9TyMSRi44Wio5AzEb9So1fGyB",
      "include_colab_link": true
    },
    "kernelspec": {
      "name": "python3",
      "display_name": "Python 3"
    }
  },
  "cells": [
    {
      "cell_type": "markdown",
      "metadata": {
        "id": "view-in-github",
        "colab_type": "text"
      },
      "source": [
        "<a href=\"https://colab.research.google.com/github/pythoncoder100/practice/blob/master/Nested_Dictionaries.ipynb\" target=\"_parent\"><img src=\"https://colab.research.google.com/assets/colab-badge.svg\" alt=\"Open In Colab\"/></a>"
      ]
    },
    {
      "cell_type": "code",
      "metadata": {
        "id": "B1tWC572D2bC"
      },
      "source": [
        "Students={\r\n",
        "           \"Tom\":{\"Major\":\"Physics\", \"Age\":22},\r\n",
        "           \"Sheela\":{\"Major\":\"Mathematics\", \"Age\":21}\r\n",
        "         }"
      ],
      "execution_count": 6,
      "outputs": []
    },
    {
      "cell_type": "code",
      "metadata": {
        "colab": {
          "base_uri": "https://localhost:8080/"
        },
        "id": "BLvVI0PUD3lJ",
        "outputId": "bed67e3e-90c0-4c85-ae70-77e573f579f5"
      },
      "source": [
        "Students.keys()"
      ],
      "execution_count": 7,
      "outputs": [
        {
          "output_type": "execute_result",
          "data": {
            "text/plain": [
              "dict_keys(['Tom', 'Sheela'])"
            ]
          },
          "metadata": {
            "tags": []
          },
          "execution_count": 7
        }
      ]
    },
    {
      "cell_type": "code",
      "metadata": {
        "colab": {
          "base_uri": "https://localhost:8080/"
        },
        "id": "UwBKG4SDESXL",
        "outputId": "6c21b5ae-1f61-4188-e638-fa94c39bbc77"
      },
      "source": [
        "Students.values()"
      ],
      "execution_count": 8,
      "outputs": [
        {
          "output_type": "execute_result",
          "data": {
            "text/plain": [
              "dict_values([{'Major': 'Physics', 'Age': 22}, {'Major': 'Mathematics', 'Age': 21}])"
            ]
          },
          "metadata": {
            "tags": []
          },
          "execution_count": 8
        }
      ]
    },
    {
      "cell_type": "code",
      "metadata": {
        "id": "INvFJUteEWD8"
      },
      "source": [
        ""
      ],
      "execution_count": null,
      "outputs": []
    }
  ]
}