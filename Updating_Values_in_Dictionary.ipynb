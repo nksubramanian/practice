{
  "nbformat": 4,
  "nbformat_minor": 0,
  "metadata": {
    "colab": {
      "name": "Updating Values in Dictionary.ipynb",
      "provenance": [],
      "authorship_tag": "ABX9TyNsJmwulkcrYBVWOwp1zUky",
      "include_colab_link": true
    },
    "kernelspec": {
      "name": "python3",
      "display_name": "Python 3"
    }
  },
  "cells": [
    {
      "cell_type": "markdown",
      "metadata": {
        "id": "view-in-github",
        "colab_type": "text"
      },
      "source": [
        "<a href=\"https://colab.research.google.com/github/pythoncoder100/practice/blob/master/Updating_Values_in_Dictionary.ipynb\" target=\"_parent\"><img src=\"https://colab.research.google.com/assets/colab-badge.svg\" alt=\"Open In Colab\"/></a>"
      ]
    },
    {
      "cell_type": "code",
      "metadata": {
        "id": "0ZE1_pBIsOzC"
      },
      "source": [
        "Sheela = {\r\n",
        "\"Major\": \"Chemistry\",\r\n",
        "\"Age\": 21,\r\n",
        "\"Gender\": \"Female\",\r\n",
        "}\r\n",
        "\r\n",
        "Sheela[\"Major\"]=\"Mathematics\"\r\n",
        "\r\n"
      ],
      "execution_count": 1,
      "outputs": []
    },
    {
      "cell_type": "code",
      "metadata": {
        "colab": {
          "base_uri": "https://localhost:8080/"
        },
        "id": "QHlRzyvMs5Yf",
        "outputId": "202f483e-13a7-4989-f6c1-137478a6aa51"
      },
      "source": [
        "print(Sheela)"
      ],
      "execution_count": 2,
      "outputs": [
        {
          "output_type": "stream",
          "text": [
            "{'Major': 'Mathematics', 'Age': 21, 'Gender': 'Female'}\n"
          ],
          "name": "stdout"
        }
      ]
    },
    {
      "cell_type": "code",
      "metadata": {
        "id": "9FgnIjFSs9oQ"
      },
      "source": [
        "Sheela.update({\"Age\": 24})"
      ],
      "execution_count": 3,
      "outputs": []
    },
    {
      "cell_type": "code",
      "metadata": {
        "id": "0__YsYyYtbt2",
        "outputId": "4d245081-07fd-47d5-e706-df7e4a699f76",
        "colab": {
          "base_uri": "https://localhost:8080/"
        }
      },
      "source": [
        "print(Sheela)"
      ],
      "execution_count": 4,
      "outputs": [
        {
          "output_type": "stream",
          "text": [
            "{'Major': 'Mathematics', 'Age': 24, 'Gender': 'Female'}\n"
          ],
          "name": "stdout"
        }
      ]
    },
    {
      "cell_type": "code",
      "metadata": {
        "id": "HhClGt0NteJn"
      },
      "source": [
        ""
      ],
      "execution_count": null,
      "outputs": []
    }
  ]
}