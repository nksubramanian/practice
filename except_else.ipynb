{
  "nbformat": 4,
  "nbformat_minor": 0,
  "metadata": {
    "colab": {
      "name": "except else.ipynb",
      "provenance": [],
      "authorship_tag": "ABX9TyP2nwJo3pZ85QgHQLHHClaP",
      "include_colab_link": true
    },
    "kernelspec": {
      "name": "python3",
      "display_name": "Python 3"
    }
  },
  "cells": [
    {
      "cell_type": "markdown",
      "metadata": {
        "id": "view-in-github",
        "colab_type": "text"
      },
      "source": [
        "<a href=\"https://colab.research.google.com/github/pythoncoder100/practice/blob/master/except_else.ipynb\" target=\"_parent\"><img src=\"https://colab.research.google.com/assets/colab-badge.svg\" alt=\"Open In Colab\"/></a>"
      ]
    },
    {
      "cell_type": "code",
      "metadata": {
        "colab": {
          "base_uri": "https://localhost:8080/"
        },
        "id": "2FrwewVXb4Xo",
        "outputId": "5a30f0b1-fa38-458b-c7d2-b1723ef6a333"
      },
      "source": [
        "try:\r\n",
        "  print(\"This is my string\")\r\n",
        "except:\r\n",
        "  print(\"I would get executed when there is something wrong\")\r\n",
        "else:\r\n",
        "  print(\"I would get executed when there is nothing wrong in the Try block\")"
      ],
      "execution_count": 2,
      "outputs": [
        {
          "output_type": "stream",
          "text": [
            "Hello\n",
            "I would get executed when there is nothing wrong in the Try block\n"
          ],
          "name": "stdout"
        }
      ]
    },
    {
      "cell_type": "code",
      "metadata": {
        "id": "YyH7uLi_b5E3"
      },
      "source": [
        ""
      ],
      "execution_count": null,
      "outputs": []
    }
  ]
}